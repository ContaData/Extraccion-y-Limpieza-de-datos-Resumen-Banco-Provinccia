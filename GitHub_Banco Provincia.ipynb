{
 "cells": [
  {
   "cell_type": "code",
   "execution_count": null,
   "metadata": {},
   "outputs": [],
   "source": [
    "import pandas as pd\n",
    "import tabula "
   ]
  },
  {
   "cell_type": "code",
   "execution_count": null,
   "metadata": {},
   "outputs": [],
   "source": [
    "# UBICACIÓN DEL ARCHIVO PDF - EXTRACTO BANCARIO PROVINCIA\n",
    "ruta = \"D:\\DOCUMENTOS\\kari\\PDF Kari\\ExtractoBancario2.pdf\"\n",
    "\n",
    "# DETERMINAR EL CBU DE LA CUENTA BANCARIA\n",
    "CBU = tabula.read_pdf(\n",
    "    ruta, \n",
    "    pages=1,\n",
    "    relative_area=True, \n",
    "    relative_columns=True,\n",
    "    area=[10, 0, 16, 100],\n",
    "    columns=[65], \n",
    "    pandas_options={'header': None}) [0][1][1]"
   ]
  },
  {
   "cell_type": "code",
   "execution_count": null,
   "metadata": {},
   "outputs": [],
   "source": [
    "# LECTURA DE TABLAS DESDE EL PDF USANDO TABULA\n",
    "dfs = tabula.read_pdf(\n",
    "    ruta, \n",
    "    pages='all',\n",
    "    relative_area=True, \n",
    "    relative_columns=True,\n",
    "    area=[20, 0, 95, 100],\n",
    "    columns=[10, 55, 73, 80], \n",
    "    silent=True)"
   ]
  },
  {
   "cell_type": "code",
   "execution_count": null,
   "metadata": {},
   "outputs": [],
   "source": [
    "# RENOMBRAR COLUMNAS DE LAS TABLAS\n",
    "nuevos_nombres = ['Fecha', 'Concepto', 'Importe', 'Valor', 'Saldo']\n",
    "dfs_renombrados = [df.rename(columns=dict(zip(df.columns, nuevos_nombres))) for df in dfs]\n",
    "\n",
    "# UNIR TODAS LAS TABLAS EN UN SOLO DATAFRAME\n",
    "df_unido = pd.concat(dfs_renombrados, ignore_index=True)"
   ]
  },
  {
   "cell_type": "code",
   "execution_count": null,
   "metadata": {},
   "outputs": [],
   "source": [
    "# FILTRAR FILAS CON FECHA NO VACÍA Y FORMATO 'dd-mm-aa'\n",
    "df_filtro = df_unido[df_unido['Fecha'].notna() & df_unido['Fecha'].str.match(r'^\\d{2}-\\d{2}-\\d{2}$')]\n",
    "\n",
    "# CREAR COLUMNAS DE DÉBITOS Y CRÉDITOS\n",
    "df_filtro['Debitos'] = df_filtro['Importe'].astype(str).apply(lambda x: x if x.startswith('-') else None)\n",
    "df_filtro['Creditos'] = df_filtro['Importe'].astype(str).apply(lambda x: x if not x.startswith('-') else None)"
   ]
  },
  {
   "cell_type": "code",
   "execution_count": null,
   "metadata": {},
   "outputs": [],
   "source": [
    "# OBTENER FECHAS INICIAL Y FINAL DEL EXTRACTO BANCARIO\n",
    "desde = df_filtro['Fecha'].iloc[0]\n",
    "hasta = df_filtro['Fecha'].iloc[-1]\n",
    "fecha_desde = \"-\".join(reversed(desde.split(\"-\")))\n",
    "fecha_hasta = \"-\".join(reversed(hasta.split(\"-\")))\n",
    "\n",
    "# GENERAR NOMBRE DEL ARCHIVO CSV DE SALIDA\n",
    "nombre_archivo = CBU + \"_Periodo_\" + fecha_desde + \" al \" + fecha_hasta + \".csv\""
   ]
  },
  {
   "cell_type": "code",
   "execution_count": null,
   "metadata": {},
   "outputs": [],
   "source": [
    "# ORDENAR LAS COLUMNAS EN EL DATAFRAME FINAL\n",
    "df_orden = df_filtro['Fecha', 'Concepto', 'Importe', 'Valor', 'Debitos', 'Creditos', 'Saldo']\n",
    "\n",
    "# GUARDAR EL DATAFRAME EN UN ARCHIVO CSV\n",
    "df_orden.to_csv(nombre_archivo, encoding='latin-1', sep=';', index=False)"
   ]
  }
 ],
 "metadata": {
  "kernelspec": {
   "display_name": "ETL_pdfs",
   "language": "python",
   "name": "python3"
  },
  "language_info": {
   "codemirror_mode": {
    "name": "ipython",
    "version": 3
   },
   "file_extension": ".py",
   "mimetype": "text/x-python",
   "name": "python",
   "nbconvert_exporter": "python",
   "pygments_lexer": "ipython3",
   "version": "3.11.9"
  }
 },
 "nbformat": 4,
 "nbformat_minor": 2
}
